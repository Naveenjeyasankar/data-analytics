{
 "cells": [
  {
   "cell_type": "code",
   "execution_count": 4,
   "id": "cf6fa551",
   "metadata": {},
   "outputs": [
    {
     "data": {
      "text/plain": [
       "0.3931252536255495"
      ]
     },
     "execution_count": 4,
     "metadata": {},
     "output_type": "execute_result"
    }
   ],
   "source": [
    "import numpy as np \n",
    "import pandas as pd\n",
    "import matplotlib.pyplot as plt\n",
    "import scipy\n",
    "from scipy import stats\n",
    "scipy.stats.f.ppf(q=0.05,dfn=15,dfd=10)"
   ]
  },
  {
   "cell_type": "code",
   "execution_count": 6,
   "id": "c5ea4c4c",
   "metadata": {},
   "outputs": [],
   "source": [
    "x=[4,5,6,9,6,8,6,9,5]\n",
    "y=[2,5,6,8,7,3,2,5,8]\n",
    "f=np.var(x)/np.var(y)\n",
    "dfn=len(x)-1\n",
    "dfd=len(y)-1\n"
   ]
  },
  {
   "cell_type": "code",
   "execution_count": 7,
   "id": "49303ac2",
   "metadata": {},
   "outputs": [],
   "source": [
    "p_value=scipy.stats.f.ppf(f,dfn,dfd)"
   ]
  },
  {
   "cell_type": "code",
   "execution_count": 8,
   "id": "50c35902",
   "metadata": {},
   "outputs": [
    {
     "data": {
      "text/plain": [
       "1.1678030965808706"
      ]
     },
     "execution_count": 8,
     "metadata": {},
     "output_type": "execute_result"
    }
   ],
   "source": [
    "p_value"
   ]
  },
  {
   "cell_type": "code",
   "execution_count": null,
   "id": "0ec5b95d",
   "metadata": {},
   "outputs": [],
   "source": []
  }
 ],
 "metadata": {
  "kernelspec": {
   "display_name": "Python 3 (ipykernel)",
   "language": "python",
   "name": "python3"
  },
  "language_info": {
   "codemirror_mode": {
    "name": "ipython",
    "version": 3
   },
   "file_extension": ".py",
   "mimetype": "text/x-python",
   "name": "python",
   "nbconvert_exporter": "python",
   "pygments_lexer": "ipython3",
   "version": "3.9.7"
  }
 },
 "nbformat": 4,
 "nbformat_minor": 5
}
