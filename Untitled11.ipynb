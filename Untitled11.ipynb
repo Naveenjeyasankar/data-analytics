{
 "cells": [
  {
   "cell_type": "code",
   "execution_count": 1,
   "id": "49eb3273",
   "metadata": {},
   "outputs": [],
   "source": [
    "from scipy import stats"
   ]
  },
  {
   "cell_type": "code",
   "execution_count": 4,
   "id": "9837a7bf",
   "metadata": {},
   "outputs": [
    {
     "data": {
      "text/plain": [
       "-1.2815515655446004"
      ]
     },
     "execution_count": 4,
     "metadata": {},
     "output_type": "execute_result"
    }
   ],
   "source": [
    "stats.norm.ppf(0.1)2"
   ]
  },
  {
   "cell_type": "code",
   "execution_count": 5,
   "id": "fa29c1b9",
   "metadata": {},
   "outputs": [
    {
     "data": {
      "text/plain": [
       "0.1378565720320355"
      ]
     },
     "execution_count": 5,
     "metadata": {},
     "output_type": "execute_result"
    }
   ],
   "source": [
    "1-stats.norm.cdf(1.09)"
   ]
  },
  {
   "cell_type": "code",
   "execution_count": 7,
   "id": "6f8d20d3",
   "metadata": {},
   "outputs": [
    {
     "data": {
      "text/plain": [
       "nan"
      ]
     },
     "execution_count": 7,
     "metadata": {},
     "output_type": "execute_result"
    }
   ],
   "source": [
    "stats.norm.ppf(1.09)"
   ]
  },
  {
   "cell_type": "code",
   "execution_count": 8,
   "id": "ab48f01e",
   "metadata": {},
   "outputs": [
    {
     "ename": "TypeError",
     "evalue": "unsupported operand type(s) for -: 'int' and 'module'",
     "output_type": "error",
     "traceback": [
      "\u001b[1;31m---------------------------------------------------------------------------\u001b[0m",
      "\u001b[1;31mTypeError\u001b[0m                                 Traceback (most recent call last)",
      "\u001b[1;32mC:\\Users\\NAVEEN~1\\AppData\\Local\\Temp/ipykernel_9484/271631957.py\u001b[0m in \u001b[0;36m<module>\u001b[1;34m\u001b[0m\n\u001b[1;32m----> 1\u001b[1;33m \u001b[1;36m1\u001b[0m\u001b[1;33m-\u001b[0m\u001b[0mstats\u001b[0m\u001b[1;33m,\u001b[0m\u001b[0mnorm\u001b[0m\u001b[1;33m.\u001b[0m\u001b[0mcdf\u001b[0m\u001b[1;33m(\u001b[0m\u001b[1;36m1.645\u001b[0m\u001b[1;33m)\u001b[0m\u001b[1;33m\u001b[0m\u001b[1;33m\u001b[0m\u001b[0m\n\u001b[0m",
      "\u001b[1;31mTypeError\u001b[0m: unsupported operand type(s) for -: 'int' and 'module'"
     ]
    }
   ],
   "source": [
    "1-stats,norm.cdf(1.5)"
   ]
  },
  {
   "cell_type": "code",
   "execution_count": 11,
   "id": "8cccc9bf",
   "metadata": {},
   "outputs": [
    {
     "data": {
      "text/plain": [
       "0.006143918437300888"
      ]
     },
     "execution_count": 11,
     "metadata": {},
     "output_type": "execute_result"
    }
   ],
   "source": [
    "((1-stats.norm.cdf(2.74))*2)\n"
   ]
  },
  {
   "cell_type": "code",
   "execution_count": null,
   "id": "dda702b9",
   "metadata": {},
   "outputs": [],
   "source": []
  }
 ],
 "metadata": {
  "kernelspec": {
   "display_name": "Python 3 (ipykernel)",
   "language": "python",
   "name": "python3"
  },
  "language_info": {
   "codemirror_mode": {
    "name": "ipython",
    "version": 3
   },
   "file_extension": ".py",
   "mimetype": "text/x-python",
   "name": "python",
   "nbconvert_exporter": "python",
   "pygments_lexer": "ipython3",
   "version": "3.9.7"
  }
 },
 "nbformat": 4,
 "nbformat_minor": 5
}
